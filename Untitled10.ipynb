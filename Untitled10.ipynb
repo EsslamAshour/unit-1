{
  "nbformat": 4,
  "nbformat_minor": 0,
  "metadata": {
    "colab": {
      "name": "Untitled10.ipynb",
      "provenance": [],
      "authorship_tag": "ABX9TyM7ahu/RDVEDO5Zo+I9V1K9",
      "include_colab_link": true
    },
    "kernelspec": {
      "name": "python3",
      "display_name": "Python 3"
    },
    "language_info": {
      "name": "python"
    }
  },
  "cells": [
    {
      "cell_type": "markdown",
      "metadata": {
        "id": "view-in-github",
        "colab_type": "text"
      },
      "source": [
        "<a href=\"https://colab.research.google.com/github/EsslamAshour/unit-1/blob/main/Untitled10.ipynb\" target=\"_parent\"><img src=\"https://colab.research.google.com/assets/colab-badge.svg\" alt=\"Open In Colab\"/></a>"
      ]
    },
    {
      "cell_type": "code",
      "metadata": {
        "colab": {
          "base_uri": "https://localhost:8080/"
        },
        "id": "6J9co1txRTc_",
        "outputId": "25d12806-165e-425e-c2ae-8a9a6aeaeba5"
      },
      "source": [
        "# Return the the number of \"o\"/\"O\" in a string\n",
        "def paulos_os(string):\n",
        "    o_count = 0\n",
        "    for char in string:\n",
        "        if char.lower() == \"o\":\n",
        "            o_count += 1\n",
        "    return o_count\n",
        "print(paulos_os(\"O o o oo that's cool\"))"
      ],
      "execution_count": 1,
      "outputs": [
        {
          "output_type": "execute_result",
          "data": {
            "text/plain": [
              "7"
            ]
          },
          "metadata": {},
          "execution_count": 1
        }
      ]
    },
    {
      "cell_type": "code",
      "metadata": {
        "colab": {
          "base_uri": "https://localhost:8080/"
        },
        "id": "HIptg_naRh-q",
        "outputId": "e22b10d3-f133-4f56-c41c-d3d14e9e6e1c"
      },
      "source": [
        "# Return the string with the most types of repeated characters\n",
        "def berils_repeated(w1, w2):\n",
        "    w1_letters = list(w1)\n",
        "    w2_letters = list(w2)\n",
        "    w1_count = 0\n",
        "    w2_count = 0\n",
        "    for letter in w1_letters:\n",
        "        if w1_letters.count(letter) > 1:\n",
        "            w1_count += 1\n",
        "    for letter in w2_letters:\n",
        "        if w2_letters.count(letter) > 1:\n",
        "            w2_count += 1\n",
        "    if w1_count > w2_count:\n",
        "        output = w1\n",
        "    elif w2_count > w1_count:\n",
        "        output = w2\n",
        "    else:\n",
        "        output = \"?\"\n",
        "    return output\n",
        "print(berils_repeated(\"appreciate\", \"pumpkin\"))"
      ],
      "execution_count": 2,
      "outputs": [
        {
          "output_type": "stream",
          "name": "stdout",
          "text": [
            "appreciate\n"
          ]
        }
      ]
    },
    {
      "cell_type": "code",
      "metadata": {
        "colab": {
          "base_uri": "https://localhost:8080/"
        },
        "id": "u_nVh_FoRzYM",
        "outputId": "ce9f15a1-40d4-4b32-b2e0-9bd4ae3b19a5"
      },
      "source": [
        "# Take 4 variables representing two timestamps (hour:minute) and return the difference in time in minutes.\n",
        "def ryus_time(h1, m1, h2, m2):\n",
        "    h_diff = h2 - h1\n",
        "    m_diff = m2 - m1\n",
        "    total_diff = h_diff*60 + m_diff\n",
        "    return total_diff\n",
        "print(ryus_time(19, 25, 20, 25))"
      ],
      "execution_count": 3,
      "outputs": [
        {
          "output_type": "stream",
          "name": "stdout",
          "text": [
            "60\n"
          ]
        }
      ]
    },
    {
      "cell_type": "code",
      "metadata": {
        "colab": {
          "base_uri": "https://localhost:8080/"
        },
        "id": "-CvyMwMcSLHp",
        "outputId": "f75cf80f-3d50-40b7-accb-daa15aff1855"
      },
      "source": [
        "# Return True if the word only uses unique letters, otherwise return False.\n",
        "def esslams_unique_letter(word):\n",
        "  is_isogram = True\n",
        "  letters = []\n",
        "  for letter in word:\n",
        "      if letter in letters:\n",
        "          is_isogram = False\n",
        "      else:\n",
        "          letters.append(letter)\n",
        "  return is_isogram\n",
        "print(esslams_unique_letter(\"asdf\"))\n",
        "print(esslams_unique_letter(\"asdff\"))"
      ],
      "execution_count": 5,
      "outputs": [
        {
          "output_type": "stream",
          "name": "stdout",
          "text": [
            "True\n",
            "False\n"
          ]
        }
      ]
    }
  ]
}