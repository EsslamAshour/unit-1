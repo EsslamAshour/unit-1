{
  "nbformat": 4,
  "nbformat_minor": 0,
  "metadata": {
    "colab": {
      "name": "Untitled1.ipynb",
      "provenance": [],
      "collapsed_sections": [],
      "authorship_tag": "ABX9TyPerzfDUbSroFo0oKKywUiZ",
      "include_colab_link": true
    },
    "kernelspec": {
      "name": "python3",
      "display_name": "Python 3"
    },
    "language_info": {
      "name": "python"
    }
  },
  "cells": [
    {
      "cell_type": "markdown",
      "metadata": {
        "id": "view-in-github",
        "colab_type": "text"
      },
      "source": [
        "<a href=\"https://colab.research.google.com/github/EsslamAshour/unit-1/blob/main/basic_exercises.ipynb\" target=\"_parent\"><img src=\"https://colab.research.google.com/assets/colab-badge.svg\" alt=\"Open In Colab\"/></a>"
      ]
    },
    {
      "cell_type": "code",
      "metadata": {
        "colab": {
          "base_uri": "https://localhost:8080/"
        },
        "id": "xdmZWAAJLtg7",
        "outputId": "5ed943b8-da3b-4bd8-f4b0-a5efdb9b0d48"
      },
      "source": [
        "f = int(input(\"Temperature in fahrenheit: \"))\n",
        "c = (f - 32) * (5 / 9)\n",
        "print(f\"Temperature in celsius: {c}\")"
      ],
      "execution_count": 1,
      "outputs": [
        {
          "output_type": "stream",
          "text": [
            "Temperature in fahrenheit: 32\n",
            "0.0\n"
          ],
          "name": "stdout"
        }
      ]
    },
  ]
}
