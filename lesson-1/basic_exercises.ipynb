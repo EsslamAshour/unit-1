{
  "nbformat": 4,
  "nbformat_minor": 0,
  "metadata": {
    "colab": {
      "name": "Untitled3.ipynb",
      "provenance": [],
      "collapsed_sections": [],
      "authorship_tag": "ABX9TyP9x/qziHnex52a2RQqPABb",
      "include_colab_link": true
    },
    "kernelspec": {
      "name": "python3",
      "display_name": "Python 3"
    },
    "language_info": {
      "name": "python"
    }
  },
  "cells": [
    {
      "cell_type": "markdown",
      "metadata": {
        "id": "view-in-github",
        "colab_type": "text"
      },
      "source": [
        "<a href=\"https://colab.research.google.com/github/EsslamAshour/unit-1/blob/main/basic_exercises.ipynb\" target=\"_parent\"><img src=\"https://colab.research.google.com/assets/colab-badge.svg\" alt=\"Open In Colab\"/></a>"
      ]
    },
    {
      "cell_type": "markdown",
      "metadata": {
        "id": "dfb_GjC3w1aW"
      },
      "source": [
        "#Basic programming exercises (4-7 and 9)"
      ]
    },
    {
      "cell_type": "code",
      "metadata": {
        "colab": {
          "base_uri": "https://localhost:8080/",
          "height": 0
        },
        "id": "X9wGdfCWntf6",
        "outputId": "b3971226-3d25-4441-b9cb-8d5afd70d0fe"
      },
      "source": [
        "# Exercise 4 - fahrenheit to celsius\n",
        "f = int(input(\"Input temperature in fahrenheit: \"))\n",
        "c = (f-32) * (5/9)\n",
        "print(f\"Temperature in celsius: {c}\")"
      ],
      "execution_count": 1,
      "outputs": [
        {
          "output_type": "stream",
          "text": [
            "Input temperature in fahrenheit: 32\n",
            "Temperature in celsius: 0.0\n"
          ],
          "name": "stdout"
        }
      ]
    },
    {
      "cell_type": "code",
      "metadata": {
        "colab": {
          "base_uri": "https://localhost:8080/"
        },
        "id": "RoCYj3KFoP2k",
        "outputId": "0650a0e2-28ae-4a66-9f19-cf17b33ad0f8"
      },
      "source": [
        "# Exercise 5 - miles to kilometers\n",
        "miles = int(input(\"Input value in miles: \"))\n",
        "km = miles*1.609344\n",
        "print(f\"Value in kilometers: {km}\")"
      ],
      "execution_count": 2,
      "outputs": [
        {
          "output_type": "stream",
          "text": [
            "Input value in miles: 2\n",
            "Value in kilometers: 3.218688\n"
          ],
          "name": "stdout"
        }
      ]
    },
    {
      "cell_type": "code",
      "metadata": {
        "colab": {
          "base_uri": "https://localhost:8080/"
        },
        "id": "smq-D-Ymo180",
        "outputId": "181c558c-5dac-4040-f10c-d1379be50836"
      },
      "source": [
        "# Exercise 6 - solve quadratic equation\n",
        "from math import sqrt\n",
        "a = int(input(\"Input value of a: \"))\n",
        "b = int(input(\"Input value of b: \"))\n",
        "c = int(input(\"Input value of c: \"))\n",
        "x1 = (-b + sqrt(b**2 - 4*a*c)) / 2*a\n",
        "x2 = (-b - sqrt(b**2 - 4*a*c)) / 2*a\n",
        "print(f\"Solution 1: {x1}\\nSolution 2: {x2}\")"
      ],
      "execution_count": 1,
      "outputs": [
        {
          "output_type": "stream",
          "text": [
            "Input value of a: 1\n",
            "Input value of b: -8\n",
            "Input value of c: 12\n",
            "Solution 1: 6.0\n",
            "Solution 2: 2.0\n"
          ],
          "name": "stdout"
        }
      ]
    },
    {
      "cell_type": "code",
      "metadata": {
        "colab": {
          "base_uri": "https://localhost:8080/"
        },
        "id": "KX5wqi-CsLw0",
        "outputId": "cc4eb323-9320-4508-f5a4-d5e7e6fd0f00"
      },
      "source": [
        "# exercise 7 - reverse number\n",
        "num = input(\"Input number: \")\n",
        "# begin from end and count down 1\n",
        "print(f\"Reversed: {num[::-1]}\")"
      ],
      "execution_count": null,
      "outputs": [
        {
          "output_type": "stream",
          "text": [
            "Input number: 123\n",
            "Reversed: 321\n"
          ],
          "name": "stdout"
        }
      ]
    },
    {
      "cell_type": "code",
      "metadata": {
        "colab": {
          "base_uri": "https://localhost:8080/"
        },
        "id": "9PIVyN7BtukI",
        "outputId": "b5d947b0-6c11-4d1f-a61a-7c5acc8d8327"
      },
      "source": [
        "# Exercise 9 - I chose to convert from joule to calorie\n",
        "j = int(input(\"Energy in joule: \"))\n",
        "cal = j*0.239006\n",
        "print(f\"Energy in calories: {cal}\")\n"
      ],
      "execution_count": 1,
      "outputs": [
        {
          "output_type": "stream",
          "text": [
            "Energy in joule: 500\n",
            "Energy in calories: 119.503\n"
          ],
          "name": "stdout"
        }
      ]
    }
  ]
}
