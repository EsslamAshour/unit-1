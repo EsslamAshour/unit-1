{
  "nbformat": 4,
  "nbformat_minor": 0,
  "metadata": {
    "colab": {
      "name": "Untitled9.ipynb",
      "provenance": [],
      "collapsed_sections": [],
      "authorship_tag": "ABX9TyO28gptjcJReI9bnlzOTzir",
      "include_colab_link": true
    },
    "kernelspec": {
      "name": "python3",
      "display_name": "Python 3"
    },
    "language_info": {
      "name": "python"
    }
  },
  "cells": [
    {
      "cell_type": "markdown",
      "metadata": {
        "id": "view-in-github",
        "colab_type": "text"
      },
      "source": [
        "<a href=\"https://colab.research.google.com/github/EsslamAshour/unit-1/blob/main/Untitled9.ipynb\" target=\"_parent\"><img src=\"https://colab.research.google.com/assets/colab-badge.svg\" alt=\"Open In Colab\"/></a>"
      ]
    },
    {
      "cell_type": "code",
      "metadata": {
        "colab": {
          "base_uri": "https://localhost:8080/"
        },
        "id": "2b7RjKOqObi-",
        "outputId": "038ef0e6-3fd0-4dc7-e538-5129cbd44719"
      },
      "source": [
        "def mystery_box1(word, capitalize):\n",
        "    if not capitalize:\n",
        "        word = word.lower()\n",
        "    return word[::-1]\n",
        "\n",
        "print(mystery_box1(\"Test\", capitalize=True))"
      ],
      "execution_count": 1,
      "outputs": [
        {
          "output_type": "stream",
          "name": "stdout",
          "text": [
            "tseT\n"
          ]
        }
      ]
    },
    {
      "cell_type": "code",
      "metadata": {
        "colab": {
          "base_uri": "https://localhost:8080/"
        },
        "id": "LbXoCPF8OzEd",
        "outputId": "394ca4a1-9682-4f31-8a60-de069a057931"
      },
      "source": [
        "# Take an email address and return the name and email suffix (type)\n",
        "def mystery_box2(email):\n",
        "    split_email = email.split(\"@\")\n",
        "    mail_suffix = split_email[1]\n",
        "    name_lower = split_email[0].split(\".\")\n",
        "    name_upper = \" \".join([str.capitalize(name_part) for name_part in name_lower])\n",
        "    return name_upper, mail_suffix\n",
        "\n",
        "name, mail = mystery_box2(\"john.doe@gmail.com\")\n",
        "print(name)\n",
        "print(mail)"
      ],
      "execution_count": 1,
      "outputs": [
        {
          "output_type": "stream",
          "name": "stdout",
          "text": [
            "John Doe\n",
            "gmail.com\n"
          ]
        }
      ]
    },
    {
      "cell_type": "code",
      "metadata": {
        "colab": {
          "base_uri": "https://localhost:8080/"
        },
        "id": "_1fiH9e2PH0g",
        "outputId": "0a9d4c7f-7357-434e-b7e1-75e0a2fe0d79"
      },
      "source": [
        "# Remove invalid IB scores (valid are 1-7) from a list of scores, return the filtered list and the average score of the filtered list.\n",
        "def mystery_box_4(scores):\n",
        "    for score in scores:\n",
        "      if score > 7 or score < 1:\n",
        "        scores.remove(score)\n",
        "    avg_score = sum(scores) / len(scores)\n",
        "    return scores, avg_score\n",
        "filtered_scores, avg_score = mystery_box_4([1, 9, 3, 5, 5, 6, 7, 8])\n",
        "print(filtered_scores)\n",
        "print(avg_score)"
      ],
      "execution_count": 1,
      "outputs": [
        {
          "output_type": "stream",
          "name": "stdout",
          "text": [
            "[1, 3, 5, 5, 6, 7]\n",
            "4.5\n"
          ]
        }
      ]
    }
  ]
}